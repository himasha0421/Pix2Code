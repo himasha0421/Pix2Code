{
  "nbformat": 4,
  "nbformat_minor": 0,
  "metadata": {
    "kernelspec": {
      "name": "python3",
      "display_name": "Python 3"
    },
    "colab": {
      "name": "pix2code.ipynb",
      "provenance": [],
      "collapsed_sections": []
    },
    "accelerator": "GPU"
  },
  "cells": [
    {
      "cell_type": "code",
      "metadata": {
        "id": "pyOY5o82udZV",
        "colab_type": "code",
        "colab": {}
      },
      "source": [
        "!unzip /content/deep-learning.zip"
      ],
      "execution_count": null,
      "outputs": []
    },
    {
      "cell_type": "code",
      "metadata": {
        "id": "lLKkF4KrWS9E",
        "colab_type": "code",
        "colab": {
          "base_uri": "https://localhost:8080/",
          "height": 125
        },
        "outputId": "54cf74e9-37fd-43e4-d0c6-38fee57ee5ab"
      },
      "source": [
        "from google.colab import drive\n",
        "drive.mount('/content/drive')"
      ],
      "execution_count": 3,
      "outputs": [
        {
          "output_type": "stream",
          "text": [
            "Go to this URL in a browser: https://accounts.google.com/o/oauth2/auth?client_id=947318989803-6bn6qk8qdgf4n4g3pfee6491hc0brc4i.apps.googleusercontent.com&redirect_uri=urn%3aietf%3awg%3aoauth%3a2.0%3aoob&scope=email%20https%3a%2f%2fwww.googleapis.com%2fauth%2fdocs.test%20https%3a%2f%2fwww.googleapis.com%2fauth%2fdrive%20https%3a%2f%2fwww.googleapis.com%2fauth%2fdrive.photos.readonly%20https%3a%2f%2fwww.googleapis.com%2fauth%2fpeopleapi.readonly&response_type=code\n",
            "\n",
            "Enter your authorization code:\n",
            "··········\n",
            "Mounted at /content/drive\n"
          ],
          "name": "stdout"
        }
      ]
    },
    {
      "cell_type": "code",
      "metadata": {
        "id": "UhL1AyzkuJwe",
        "colab_type": "code",
        "colab": {}
      },
      "source": [
        "import requests\n",
        "\n",
        "url = \"https://www.floydhub.com/api/v1/resources/YrepYFsJ8om77SivtHpVHH?content=true&download=true&rename=floydhub-datasets-pix2code-1\"\n",
        "target_path = 'xlrd-0.9.4.tar.gz'\n",
        "\n",
        "response = requests.get(url, stream=True)\n",
        "if response.status_code == 200:\n",
        "    with open(target_path, 'wb') as f:\n",
        "        f.write(response.raw.read())\n",
        "\n",
        "import tarfile\n",
        "my_tar = tarfile.open('/content/xlrd-0.9.4.tar.gz')\n",
        "my_tar.extractall('/content/deep-learning/data') # specify which folder to extract to\n",
        "my_tar.close()"
      ],
      "execution_count": null,
      "outputs": []
    },
    {
      "cell_type": "markdown",
      "metadata": {
        "id": "ndVbH_8at-17",
        "colab_type": "text"
      },
      "source": [
        "# Pix2Code\n",
        "\n",
        "Within three years deep learning will change front-end development. It will increase prototyping speed and lower the barrier for building software. The field took off last year when Tony Beltramelli introduced the [pix2code paper](https://arxiv.org/abs/1705.07962) and Airbnb launched [sketch2code](https://airbnb.design/sketching-interfaces/). Currently, the largest barrier to automating front-end development is computing power. However, we can use current deep learning algorithms, along with synthesized training data, to start exploring artificial front-end automation right now!\n",
        "\n",
        "## Turning Design Mockups Into Code With Deep Learning\n",
        "\n",
        "In this notebook, we’ll build a neural network to code a basic a HTML and CSS website based on a picture of a design mockup. \n",
        "\n",
        "![pix2code](https://blog.floydhub.com/content/images/2018/04/bootstrap_overview.gif)\n",
        "\n",
        "*Image from the [Blog](https://blog.floydhub.com/turning-design-mockups-into-code-with-deep-learning/)*\n",
        "\n",
        "\n",
        "We’ll use a dataset of generated bootstrap websites from the [pix2code paper](https://arxiv.org/abs/1705.07962). By using Twitter’s [bootstrap](https://getbootstrap.com/), we can combine HTML and CSS and decrease the size of the vocabulary.\n",
        "\n",
        "Instead of training it on the bootstrap markup, we’ll use 17 simplified tokens that we then translate into HTML and CSS. The [dataset](https://github.com/tonybeltramelli/pix2code/tree/master/datasets) includes 1500 test screenshots and 250 validation images. For each screenshot there are on average 65 tokens, resulting in 96925 training examples.\n",
        "\n",
        "By tweaking the model in the pix2code paper, the model can predict the web components with 97% accuracy ([BLEU](https://en.wikipedia.org/wiki/BLEU) 4-ngram greedy search).\n",
        "\n",
        "We will:\n",
        "\n",
        "- Preprocess webpage images and the code related HTML for this mixed NLP-CV task\n",
        "- Build and train the `pix2code` model using Keras and Tensorflow\n",
        "- Evaluate our model on the test set\n",
        "\n",
        "### Instructions\n",
        "- To execute a code cell, click on the cell and press `Shift + Enter` (shortcut for Run).\n",
        "- To learn more about Workspaces, check out the [Getting Started Notebook]().\n",
        "- **Tip**: *Feel free to try this Notebook with your own data and on your own super awesome pix2code or skecth2code task.*\n",
        "\n",
        "Now, let's get started! 🚀"
      ]
    },
    {
      "cell_type": "markdown",
      "metadata": {
        "id": "-a_APj_-t-1-",
        "colab_type": "text"
      },
      "source": [
        "## Initial Setup\n",
        "Let's start by importing some packages"
      ]
    },
    {
      "cell_type": "code",
      "metadata": {
        "id": "leIb47ZVQ6nF",
        "colab_type": "code",
        "colab": {
          "base_uri": "https://localhost:8080/",
          "height": 34
        },
        "outputId": "d7a10eb9-fe02-4add-b015-3efda9df89f3"
      },
      "source": [
        "cd /content/deep-learning"
      ],
      "execution_count": 1,
      "outputs": [
        {
          "output_type": "stream",
          "text": [
            "/content/deep-learning\n"
          ],
          "name": "stdout"
        }
      ]
    },
    {
      "cell_type": "code",
      "metadata": {
        "id": "Cz7Ipl8tnevU",
        "colab_type": "code",
        "colab": {
          "base_uri": "https://localhost:8080/",
          "height": 90
        },
        "outputId": "aa69ebbc-c60c-413d-bcea-0d1f061202aa"
      },
      "source": [
        "import tensorflow as tf\n",
        "tf.compat.v1.disable_v2_behavior()"
      ],
      "execution_count": 2,
      "outputs": [
        {
          "output_type": "stream",
          "text": [
            "WARNING:tensorflow:From /usr/local/lib/python3.6/dist-packages/tensorflow_core/python/compat/v2_compat.py:68: disable_resource_variables (from tensorflow.python.ops.variable_scope) is deprecated and will be removed in a future version.\n",
            "Instructions for updating:\n",
            "non-resource variables are not supported in the long term\n"
          ],
          "name": "stdout"
        }
      ]
    },
    {
      "cell_type": "code",
      "metadata": {
        "id": "oS_2CuRxkuCD",
        "colab_type": "code",
        "colab": {}
      },
      "source": [
        "!pip install tensorflow-gpu==1.15"
      ],
      "execution_count": null,
      "outputs": []
    },
    {
      "cell_type": "code",
      "metadata": {
        "id": "3_67mPSqbSoi",
        "colab_type": "code",
        "colab": {}
      },
      "source": [
        "!pip uninstall keras"
      ],
      "execution_count": null,
      "outputs": []
    },
    {
      "cell_type": "code",
      "metadata": {
        "id": "77UMnDITbWOJ",
        "colab_type": "code",
        "colab": {}
      },
      "source": [
        "!pip install --upgrade keras==2.2.4"
      ],
      "execution_count": null,
      "outputs": []
    },
    {
      "cell_type": "code",
      "metadata": {
        "id": "zcVDNICwt-1_",
        "colab_type": "code",
        "colab": {
          "base_uri": "https://localhost:8080/",
          "height": 34
        },
        "outputId": "593ee706-e6f1-4e9d-db30-70104744eb76"
      },
      "source": [
        "from os import listdir\n",
        "from numpy import array\n",
        "import numpy as np\n",
        "\n",
        "from tensorflow.python.keras.preprocessing.text import Tokenizer, one_hot\n",
        "from tensorflow.python.keras.preprocessing.sequence import pad_sequences\n",
        "from keras.models import Model, Sequential, model_from_json\n",
        "from keras.utils import to_categorical\n",
        "from keras.layers.core import Dense, Dropout, Flatten\n",
        "from keras.optimizers import RMSprop\n",
        "from keras.layers.convolutional import Conv2D\n",
        "from keras.callbacks import ModelCheckpoint\n",
        "from keras.layers import Embedding, TimeDistributed, RepeatVector, LSTM, concatenate , Input, Reshape, Dense\n",
        "from tensorflow.python.keras.preprocessing.image import array_to_img, img_to_array, load_img\n",
        "\n",
        "import tensorflow as tf"
      ],
      "execution_count": 3,
      "outputs": [
        {
          "output_type": "stream",
          "text": [
            "Using TensorFlow backend.\n"
          ],
          "name": "stderr"
        }
      ]
    },
    {
      "cell_type": "code",
      "metadata": {
        "id": "vgWdvMgWt-2F",
        "colab_type": "code",
        "colab": {}
      },
      "source": [
        "# Path to Dataset\n",
        "\n",
        "DS_PATH = '/content/deep-learning/data/train/' # edit to your /path/to/train/ds\n",
        "DS_EVAL_PATH = '/content/deep-learning/data/eval/' # edit to your /path/to/eval/ds"
      ],
      "execution_count": 4,
      "outputs": []
    },
    {
      "cell_type": "markdown",
      "metadata": {
        "id": "eZUdzjiqt-2K",
        "colab_type": "text"
      },
      "source": [
        "## Training Parameters\n",
        "We'll set the hyperparameters for training our model. If you understand what they mean, feel free to play around - otherwise, we recommend keeping the defaults for your first run 🙂\n",
        "\n",
        "**WARNING**\n",
        "\n",
        "The training is not feasible on a CPU machine."
      ]
    },
    {
      "cell_type": "code",
      "metadata": {
        "id": "UE3Wb4Mit-2K",
        "colab_type": "code",
        "colab": {
          "base_uri": "https://localhost:8080/",
          "height": 105
        },
        "outputId": "b4026ff5-62be-47ab-cada-5240d493b48e"
      },
      "source": [
        "import tensorflow as tf\n",
        "import tensorflow \n",
        "from keras.backend.tensorflow_backend import set_session\n",
        "# sess = tf.compat.v1.Session(graph=tf.import_graph_def(), config=session_conf)\n",
        "sess = tf.compat.v1.Session(graph=tf.compat.v1.get_default_graph(), config=tf.compat.v1.ConfigProto(log_device_placement=True))\n",
        "tensorflow.python.keras.backend.set_session(sess)\n",
        "# Hyperparams if GPU is available\n",
        "EPOCHS = 15 # Number of passes through entire dataset\n",
        "MAX_SEQUENCE = 150 # The max sequence to predict\n",
        "MAX_LEN = 48  # Max number of token for the input in the context prediction\n"
      ],
      "execution_count": 5,
      "outputs": [
        {
          "output_type": "stream",
          "text": [
            "Device mapping:\n",
            "/job:localhost/replica:0/task:0/device:XLA_CPU:0 -> device: XLA_CPU device\n",
            "/job:localhost/replica:0/task:0/device:XLA_GPU:0 -> device: XLA_GPU device\n",
            "/job:localhost/replica:0/task:0/device:GPU:0 -> device: 0, name: Tesla T4, pci bus id: 0000:00:04.0, compute capability: 7.5\n",
            "\n"
          ],
          "name": "stdout"
        }
      ]
    },
    {
      "cell_type": "markdown",
      "metadata": {
        "id": "WZQwFCTxt-2P",
        "colab_type": "text"
      },
      "source": [
        "## Data preparation\n",
        "\n",
        "In the step below we will load the imagse and code for each sample."
      ]
    },
    {
      "cell_type": "code",
      "metadata": {
        "id": "v21nbICgt-2Q",
        "colab_type": "code",
        "colab": {}
      },
      "source": [
        "import matplotlib.pyplot as plt\n",
        "\n",
        "def show_img(im, figsize=None, ax=None):\n",
        "    if not ax: fig,ax = plt.subplots(figsize=figsize)\n",
        "    ax.imshow(im)\n",
        "    ax.get_xaxis().set_visible(False)\n",
        "    ax.get_yaxis().set_visible(False)\n",
        "    return ax\n",
        "\n",
        "# Read a file and return a string\n",
        "def load_doc(filename):\n",
        "    file = open(filename, 'r')\n",
        "    text = file.read()\n",
        "    file.close()\n",
        "    return text\n",
        "\n",
        "def load_data(data_dir):\n",
        "    text = []\n",
        "    images = []\n",
        "    # Load all the files and order them\n",
        "    all_filenames = listdir(data_dir)\n",
        "    all_filenames.sort()\n",
        "    for filename in (all_filenames):\n",
        "        if filename[-3:] == \"npz\":\n",
        "            # Load the images already prepared in arrays\n",
        "            image = np.load(data_dir+filename)\n",
        "            images.append(image['features'])\n",
        "        else:\n",
        "            # Load the boostrap tokens and rap them in a start and end tag\n",
        "            syntax = '<START> ' + load_doc(data_dir+filename) + ' <END>'\n",
        "            # Seperate all the words with a single space\n",
        "            syntax = ' '.join(syntax.split())\n",
        "            # Add a space after each comma\n",
        "            syntax = syntax.replace(',', ' ,')\n",
        "            text.append(syntax)\n",
        "    images = np.array(images, dtype=float)\n",
        "    return images, text\n",
        "\n",
        "# Get images and text\n",
        "train_features, texts = load_data(DS_PATH)"
      ],
      "execution_count": 6,
      "outputs": []
    },
    {
      "cell_type": "code",
      "metadata": {
        "id": "NweXfvc4Syk2",
        "colab_type": "code",
        "colab": {
          "base_uri": "https://localhost:8080/",
          "height": 34
        },
        "outputId": "84d5d620-f932-4e53-98ab-023f2c90ac1b"
      },
      "source": [
        "print(\"Train Image dataset shape : \",train_features.shape)"
      ],
      "execution_count": 7,
      "outputs": [
        {
          "output_type": "stream",
          "text": [
            "Train Image dataset shape :  (1500, 256, 256, 3)\n"
          ],
          "name": "stdout"
        }
      ]
    },
    {
      "cell_type": "code",
      "metadata": {
        "id": "gOgj7DjIt-2V",
        "colab_type": "code",
        "colab": {
          "base_uri": "https://localhost:8080/",
          "height": 358
        },
        "outputId": "395161ed-3950-482e-8415-81ab5948b7c4"
      },
      "source": [
        "# Visualization\n",
        "print(\"Here's what an example looks like\\n\")\n",
        "print(\"HTML bootstrap text:\", texts[0])\n",
        "ax = show_img(train_features[0], figsize=(4,4))\n",
        "ax.set_title('HTML bootstrap image')"
      ],
      "execution_count": 8,
      "outputs": [
        {
          "output_type": "stream",
          "text": [
            "Here's what an example looks like\n",
            "\n",
            "HTML bootstrap text: <START> header { btn-inactive , btn-inactive , btn-inactive , btn-active } row { single { small-title , text , btn-red } } row { quadruple { small-title , text , btn-green } quadruple { small-title , text , btn-orange } quadruple { small-title , text , btn-red } quadruple { small-title , text , btn-orange } } row { double { small-title , text , btn-red } double { small-title , text , btn-orange } } <END>\n"
          ],
          "name": "stdout"
        },
        {
          "output_type": "execute_result",
          "data": {
            "text/plain": [
              "Text(0.5, 1.0, 'HTML bootstrap image')"
            ]
          },
          "metadata": {
            "tags": []
          },
          "execution_count": 8
        },
        {
          "output_type": "display_data",
          "data": {
            "image/png": "[encoded data removed]",
            "text/plain": [
              "<Figure size 288x288 with 1 Axes>"
            ]
          },
          "metadata": {
            "tags": [],
            "needs_background": "light"
          }
        }
      ]
    },
    {
      "cell_type": "markdown",
      "metadata": {
        "id": "_E2cgum-t-2a",
        "colab_type": "text"
      },
      "source": [
        "*Note*: `btn-orange` represents the *light blue button* and `btn-red` the *blue button*."
      ]
    },
    {
      "cell_type": "code",
      "metadata": {
        "id": "vXLRUtupt-2b",
        "colab_type": "code",
        "colab": {
          "base_uri": "https://localhost:8080/",
          "height": 34
        },
        "outputId": "d16f4b43-925c-4b16-fa8b-451b84c3d50d"
      },
      "source": [
        "# Dataset info as Sanity check\n",
        "train_features.shape, len(texts)"
      ],
      "execution_count": 9,
      "outputs": [
        {
          "output_type": "execute_result",
          "data": {
            "text/plain": [
              "((1500, 256, 256, 3), 1500)"
            ]
          },
          "metadata": {
            "tags": []
          },
          "execution_count": 9
        }
      ]
    },
    {
      "cell_type": "markdown",
      "metadata": {
        "id": "YrfO9Tk_t-2g",
        "colab_type": "text"
      },
      "source": [
        "The Tokens per sentence plot (see below) is useful for setting the `MAX_LEN` and `MAX_SEQUENCE` training hyperparameters."
      ]
    },
    {
      "cell_type": "code",
      "metadata": {
        "id": "KAA5k15yt-2h",
        "colab_type": "code",
        "colab": {
          "base_uri": "https://localhost:8080/",
          "height": 294
        },
        "outputId": "b228314d-7daa-4c3b-b8df-d9eb752acb79"
      },
      "source": [
        "import re\n",
        "import string\n",
        "\n",
        "# Custom Tokenizer\n",
        "re_tok = re.compile(f'([{string.punctuation}“”¨«»®´·º½¾¿¡§£₤‘’])')\n",
        "def tokenize(s): return re_tok.sub(r' \\1 ', s).split()\n",
        "\n",
        "# Plot sentence by lenght\n",
        "plt.hist([len(tokenize(s)) for s in texts], bins=50)\n",
        "plt.title('Tokens per sentence')\n",
        "plt.xlabel('Len (number of token)')\n",
        "plt.ylabel('# samples')\n",
        "plt.show()"
      ],
      "execution_count": 10,
      "outputs": [
        {
          "output_type": "display_data",
          "data": {
            "image/png": "[encoded data removed]",
            "text/plain": [
              "<Figure size 432x288 with 1 Axes>"
            ]
          },
          "metadata": {
            "tags": [],
            "needs_background": "light"
          }
        }
      ]
    },
    {
      "cell_type": "markdown",
      "metadata": {
        "id": "pZxPGe_0t-2m",
        "colab_type": "text"
      },
      "source": [
        "## Data preprocessing\n",
        "\n",
        "For the input data, we will use sentences, starting with the first word and then adding each word one by one. The output data is always one word.\n",
        "Sentences follow the same logic as words. They also need the same input length. Instead of being capped by the vocabulary they are bound by maximum sentence length. If it’s shorter than the maximum length, you fill it up with empty words, a word with just zeros (a.k.a. Padding).\n",
        "\n",
        "![sentence](https://blog.floydhub.com/content/images/2018/04/one_hot_sentence.png)\n",
        "\n",
        "*The image above show one-hot encoding representation for each token, but we will use this representation only for the predictions. Image from the [Blog](https://blog.floydhub.com/turning-design-mockups-into-code-with-deep-learning/).*\n",
        "\n",
        "As you see, words are printed from right to left. This forces each word to change position for each training round. This allows the model to learn the sequence instead of memorizing the position of each word."
      ]
    },
    {
      "cell_type": "code",
      "metadata": {
        "id": "wO3CM1lHt-2n",
        "colab_type": "code",
        "colab": {}
      },
      "source": [
        "# Initialize the function to create the vocabulary \n",
        "tokenizer = Tokenizer(filters='', split=\" \", lower=False)\n",
        "# Create the vocabulary \n",
        "tokenizer.fit_on_texts([load_doc('bootstrap.vocab')])\n",
        "\n",
        "# Add one spot for the empty word in the vocabulary \n",
        "VOCAB_SIZE = len(tokenizer.word_index) + 1\n",
        "\n",
        "def preprocess_data(texts, features, max_sequence):\n",
        "    X, y, image_data = list(), list(), list()\n",
        "    sequences = tokenizer.texts_to_sequences(texts)\n",
        "    for img_no, seq in enumerate(sequences):\n",
        "        for i in range(1, len(seq)):\n",
        "            # Add the sentence until the current count(i) and add the current count to the output\n",
        "            in_seq, out_seq = seq[:i], seq[i]\n",
        "            # Pad all the input token sentences to max_sequence\n",
        "            in_seq = pad_sequences([in_seq], maxlen=max_sequence)[0]\n",
        "            # Turn the output into one-hot encoding\n",
        "            out_seq = to_categorical([out_seq], num_classes=VOCAB_SIZE)[0]\n",
        "            # Add the corresponding image to the boostrap token file\n",
        "            image_data.append(features[img_no])\n",
        "            # Cap the input sentence to MAX_LEN tokens and add it\n",
        "            X.append(in_seq[-MAX_LEN:])\n",
        "            y.append(out_seq)\n",
        "    return np.array(image_data), np.array(X), np.array(y)"
      ],
      "execution_count": 11,
      "outputs": []
    },
    {
      "cell_type": "markdown",
      "metadata": {
        "id": "RJsnHoiFt-2r",
        "colab_type": "text"
      },
      "source": [
        "As mentioned above we are using only 17 tokens (+1 which is for the `PAD`, this ensure that the text will have the same lenght) for encoding the HTML text.  We included the `<START>` and `<END>` tag. These tags are cues for when the network starts its predictions and when to stop."
      ]
    },
    {
      "cell_type": "code",
      "metadata": {
        "id": "LoZx-dLIt-2r",
        "colab_type": "code",
        "colab": {
          "base_uri": "https://localhost:8080/",
          "height": 318
        },
        "outputId": "686772e4-c8e4-4575-f2a6-4230d29c144e"
      },
      "source": [
        "# Show Vocabulary\n",
        "tokenizer.word_index "
      ],
      "execution_count": 12,
      "outputs": [
        {
          "output_type": "execute_result",
          "data": {
            "text/plain": [
              "{',': 1,\n",
              " '<END>': 16,\n",
              " '<START>': 13,\n",
              " 'btn-active': 15,\n",
              " 'btn-green': 10,\n",
              " 'btn-inactive': 8,\n",
              " 'btn-orange': 11,\n",
              " 'btn-red': 9,\n",
              " 'double': 12,\n",
              " 'header': 14,\n",
              " 'quadruple': 6,\n",
              " 'row': 7,\n",
              " 'single': 17,\n",
              " 'small-title': 4,\n",
              " 'text': 5,\n",
              " '{': 2,\n",
              " '}': 3}"
            ]
          },
          "metadata": {
            "tags": []
          },
          "execution_count": 12
        }
      ]
    },
    {
      "cell_type": "code",
      "metadata": {
        "id": "VKJ57-_at-2v",
        "colab_type": "code",
        "colab": {}
      },
      "source": [
        "# Data generator, intended to be used in a call to model.fit_generator()\n",
        "def data_generator(descriptions, features, n_step, max_sequence):\n",
        "    # loop until we finish training\n",
        "    while 1:\n",
        "        # loop over photo identifiers in the dataset\n",
        "        for i in range(0, len(descriptions), n_step):\n",
        "            Ximages, XSeq, y = list(), list(),list()\n",
        "            for j in range(i, min(len(descriptions), i+n_step)):\n",
        "                image = features[j]\n",
        "                # retrieve text input\n",
        "                desc = descriptions[j]\n",
        "                # Generate input-output pairs\n",
        "                in_img, in_seq, out_word = preprocess_data([desc], [image], max_sequence)\n",
        "                for k in range(len(in_img)):\n",
        "                    if(in_img[k].shape !=(256,256,3)):\n",
        "                        print(\"Warining\")\n",
        "                    Ximages.append(in_img[k])\n",
        "                    XSeq.append(in_seq[k])\n",
        "                    y.append(out_word[k])\n",
        "            # yield this batch of samples to the model\n",
        "            yield [[array(Ximages), array(XSeq)], array(y)]"
      ],
      "execution_count": 13,
      "outputs": []
    },
    {
      "cell_type": "markdown",
      "metadata": {
        "id": "MKnlMpHxt-20",
        "colab_type": "text"
      },
      "source": [
        "## Model\n",
        "\n",
        "The model is based on Beltramelli‘s [pix2code paper](https://arxiv.org/abs/1705.07962) and Jason Brownlee’s [image caption tutorials](https://machinelearningmastery.com/blog/page/2/).\n",
        "\n",
        "![full](https://blog.floydhub.com/content/images/2018/04/model_more_detail_alone.png)\n",
        "\n",
        "*Image from the [Blog](https://blog.floydhub.com/turning-design-mockups-into-code-with-deep-learning/)*\n",
        "\n",
        "We are learning a function which given an image, predicts one token, then uses the prediction[s] and the image as context for the next precitions until reaching the `<END>` token. \n",
        "\n",
        "In the image below you can see an example where each row is one prediction. To the left are the images represented in their three color channels: red, green and blue and the previous words. Outside of the brackets, are the predictions one by one, ending with a red square to mark the end.\n",
        "\n",
        "![formal](https://blog.floydhub.com/content/images/2018/04/model_function.png)\n",
        "\n",
        "*Image from the [Blog](https://blog.floydhub.com/turning-design-mockups-into-code-with-deep-learning/)*"
      ]
    },
    {
      "cell_type": "code",
      "metadata": {
        "id": "b_BN1WKUt-21",
        "colab_type": "code",
        "colab": {
          "base_uri": "https://localhost:8080/",
          "height": 1000
        },
        "outputId": "ef3fe906-d486-468f-ee14-05f0ac699277"
      },
      "source": [
        "#Create the Image-encoder\n",
        "image_model = Sequential()\n",
        "image_model.add(Conv2D(16, (3, 3), padding='valid', activation='relu', input_shape=(256, 256, 3,)))\n",
        "image_model.add(Conv2D(16, (3,3), activation='relu', padding='same', strides=2))\n",
        "image_model.add(Conv2D(32, (3,3), activation='relu', padding='same'))\n",
        "image_model.add(Conv2D(32, (3,3), activation='relu', padding='same', strides=2))\n",
        "image_model.add(Conv2D(64, (3,3), activation='relu', padding='same'))\n",
        "image_model.add(Conv2D(64, (3,3), activation='relu', padding='same', strides=2))\n",
        "image_model.add(Conv2D(128, (3,3), activation='relu', padding='same'))\n",
        "\n",
        "image_model.add(Flatten())\n",
        "image_model.add(Dense(1024, activation='relu'))\n",
        "image_model.add(Dropout(0.3))\n",
        "image_model.add(Dense(1024, activation='relu'))\n",
        "image_model.add(Dropout(0.3))\n",
        "\n",
        "image_model.add(RepeatVector(MAX_LEN))\n",
        "\n",
        "visual_input = Input(shape=(256, 256, 3,))\n",
        "encoded_image = image_model(visual_input)\n",
        "\n",
        "#Create the Text-encoder\n",
        "language_input = Input(shape=(MAX_LEN,))\n",
        "language_model = Embedding(VOCAB_SIZE, 50, input_length=MAX_LEN, mask_zero=True)(language_input)\n",
        "language_model = LSTM(128, return_sequences=True)(language_model)\n",
        "language_model = LSTM(128, return_sequences=True)(language_model)\n",
        "\n",
        "#Create the decoder\n",
        "decoder = concatenate([encoded_image, language_model])\n",
        "decoder = LSTM(512, return_sequences=True)(decoder)\n",
        "decoder = LSTM(512, return_sequences=False)(decoder)\n",
        "decoder = Dense(VOCAB_SIZE, activation='softmax')(decoder)\n",
        "\n",
        "# Compile the model\n",
        "model = Model(inputs=[visual_input, language_input], outputs=decoder)\n",
        "image_model.summary()\n",
        "model.summary()"
      ],
      "execution_count": 14,
      "outputs": [
        {
          "output_type": "stream",
          "text": [
            "WARNING:tensorflow:From /usr/local/lib/python3.6/dist-packages/keras/backend/tensorflow_backend.py:74: The name tf.get_default_graph is deprecated. Please use tf.compat.v1.get_default_graph instead.\n",
            "\n",
            "WARNING:tensorflow:From /usr/local/lib/python3.6/dist-packages/keras/backend/tensorflow_backend.py:517: The name tf.placeholder is deprecated. Please use tf.compat.v1.placeholder instead.\n",
            "\n",
            "WARNING:tensorflow:From /usr/local/lib/python3.6/dist-packages/keras/backend/tensorflow_backend.py:4138: The name tf.random_uniform is deprecated. Please use tf.random.uniform instead.\n",
            "\n",
            "WARNING:tensorflow:From /usr/local/lib/python3.6/dist-packages/keras/backend/tensorflow_backend.py:133: The name tf.placeholder_with_default is deprecated. Please use tf.compat.v1.placeholder_with_default instead.\n",
            "\n",
            "WARNING:tensorflow:From /usr/local/lib/python3.6/dist-packages/keras/backend/tensorflow_backend.py:3445: calling dropout (from tensorflow.python.ops.nn_ops) with keep_prob is deprecated and will be removed in a future version.\n",
            "Instructions for updating:\n",
            "Please use `rate` instead of `keep_prob`. Rate should be set to `rate = 1 - keep_prob`.\n",
            "WARNING:tensorflow:From /usr/local/lib/python3.6/dist-packages/keras/backend/tensorflow_backend.py:2974: where (from tensorflow.python.ops.array_ops) is deprecated and will be removed in a future version.\n",
            "Instructions for updating:\n",
            "Use tf.where in 2.0, which has the same broadcast rule as np.where\n",
            "_________________________________________________________________\n",
            "Layer (type)                 Output Shape              Param #   \n",
            "=================================================================\n",
            "conv2d_1 (Conv2D)            (None, 254, 254, 16)      448       \n",
            "_________________________________________________________________\n",
            "conv2d_2 (Conv2D)            (None, 127, 127, 16)      2320      \n",
            "_________________________________________________________________\n",
            "conv2d_3 (Conv2D)            (None, 127, 127, 32)      4640      \n",
            "_________________________________________________________________\n",
            "conv2d_4 (Conv2D)            (None, 64, 64, 32)        9248      \n",
            "_________________________________________________________________\n",
            "conv2d_5 (Conv2D)            (None, 64, 64, 64)        18496     \n",
            "_________________________________________________________________\n",
            "conv2d_6 (Conv2D)            (None, 32, 32, 64)        36928     \n",
            "_________________________________________________________________\n",
            "conv2d_7 (Conv2D)            (None, 32, 32, 128)       73856     \n",
            "_________________________________________________________________\n",
            "flatten_1 (Flatten)          (None, 131072)            0         \n",
            "_________________________________________________________________\n",
            "dense_1 (Dense)              (None, 1024)              134218752 \n",
            "_________________________________________________________________\n",
            "dropout_1 (Dropout)          (None, 1024)              0         \n",
            "_________________________________________________________________\n",
            "dense_2 (Dense)              (None, 1024)              1049600   \n",
            "_________________________________________________________________\n",
            "dropout_2 (Dropout)          (None, 1024)              0         \n",
            "_________________________________________________________________\n",
            "repeat_vector_1 (RepeatVecto (None, 48, 1024)          0         \n",
            "=================================================================\n",
            "Total params: 135,414,288\n",
            "Trainable params: 135,414,288\n",
            "Non-trainable params: 0\n",
            "_________________________________________________________________\n",
            "__________________________________________________________________________________________________\n",
            "Layer (type)                    Output Shape         Param #     Connected to                     \n",
            "==================================================================================================\n",
            "input_2 (InputLayer)            (None, 48)           0                                            \n",
            "__________________________________________________________________________________________________\n",
            "embedding_1 (Embedding)         (None, 48, 50)       900         input_2[0][0]                    \n",
            "__________________________________________________________________________________________________\n",
            "input_1 (InputLayer)            (None, 256, 256, 3)  0                                            \n",
            "__________________________________________________________________________________________________\n",
            "lstm_1 (LSTM)                   (None, 48, 128)      91648       embedding_1[0][0]                \n",
            "__________________________________________________________________________________________________\n",
            "sequential_1 (Sequential)       (None, 48, 1024)     135414288   input_1[0][0]                    \n",
            "__________________________________________________________________________________________________\n",
            "lstm_2 (LSTM)                   (None, 48, 128)      131584      lstm_1[0][0]                     \n",
            "__________________________________________________________________________________________________\n",
            "concatenate_1 (Concatenate)     (None, 48, 1152)     0           sequential_1[1][0]               \n",
            "                                                                 lstm_2[0][0]                     \n",
            "__________________________________________________________________________________________________\n",
            "lstm_3 (LSTM)                   (None, 48, 512)      3409920     concatenate_1[0][0]              \n",
            "__________________________________________________________________________________________________\n",
            "lstm_4 (LSTM)                   (None, 512)          2099200     lstm_3[0][0]                     \n",
            "__________________________________________________________________________________________________\n",
            "dense_3 (Dense)                 (None, 18)           9234        lstm_4[0][0]                     \n",
            "==================================================================================================\n",
            "Total params: 141,156,774\n",
            "Trainable params: 141,156,774\n",
            "Non-trainable params: 0\n",
            "__________________________________________________________________________________________________\n"
          ],
          "name": "stdout"
        }
      ]
    },
    {
      "cell_type": "code",
      "metadata": {
        "id": "I6JmPOQZQT63",
        "colab_type": "code",
        "colab": {}
      },
      "source": [
        "model.load_weights(\"/content/drive/My Drive/pix2code/org-weights-epoch-0016--loss-0.0037.hdf5\")"
      ],
      "execution_count": null,
      "outputs": []
    },
    {
      "cell_type": "code",
      "metadata": {
        "id": "1xzvXJ-AQnvX",
        "colab_type": "code",
        "colab": {}
      },
      "source": [
        "!pip install wandb"
      ],
      "execution_count": null,
      "outputs": []
    },
    {
      "cell_type": "code",
      "metadata": {
        "id": "phZoQW-nt-26",
        "colab_type": "code",
        "colab": {
          "base_uri": "https://localhost:8080/",
          "height": 227
        },
        "outputId": "e91e4b73-1118-4efb-e870-b7930383fe36"
      },
      "source": [
        "import wandb\n",
        "from wandb.keras import WandbCallback\n",
        "wandb.init(config={\"hyper\": \"parameter\"})\n",
        "#Save the model for every 2nd epoch\n",
        "filepath=\"/content/drive/My Drive/pix2code/org-weights-epoch-{epoch:04d}--loss-{loss:.4f}.hdf5\"\n",
        "checkpoint = ModelCheckpoint(filepath, verbose=1, save_weights_only=True, period=1)\n",
        "callbacks_list = [checkpoint,WandbCallback(monitor='accuracy', save_model=True ) ]\n",
        "\n",
        "\n",
        "# Optimizer\n",
        "optimizer = RMSprop(lr=0.0001, clipvalue=1.0)\n",
        "model.compile(loss='categorical_crossentropy' , optimizer=optimizer , metrics=['accuracy'] )"
      ],
      "execution_count": 18,
      "outputs": [
        {
          "output_type": "display_data",
          "data": {
            "application/javascript": [
              "\n",
              "        window._wandbApiKey = new Promise((resolve, reject) => {\n",
              "            function loadScript(url) {\n",
              "            return new Promise(function(resolve, reject) {\n",
              "                let newScript = document.createElement(\"script\");\n",
              "                newScript.onerror = reject;\n",
              "                newScript.onload = resolve;\n",
              "                document.body.appendChild(newScript);\n",
              "                newScript.src = url;\n",
              "            });\n",
              "            }\n",
              "            loadScript(\"https://cdn.jsdelivr.net/npm/postmate/build/postmate.min.js\").then(() => {\n",
              "            const iframe = document.createElement('iframe')\n",
              "            iframe.style.cssText = \"width:0;height:0;border:none\"\n",
              "            document.body.appendChild(iframe)\n",
              "            const handshake = new Postmate({\n",
              "                container: iframe,\n",
              "                url: 'https://app.wandb.ai/authorize'\n",
              "            });\n",
              "            const timeout = setTimeout(() => reject(\"Couldn't auto authenticate\"), 5000)\n",
              "            handshake.then(function(child) {\n",
              "                child.on('authorize', data => {\n",
              "                    clearTimeout(timeout)\n",
              "                    resolve(data)\n",
              "                });\n",
              "            });\n",
              "            })\n",
              "        });\n",
              "    "
            ],
            "text/plain": [
              "<IPython.core.display.Javascript object>"
            ]
          },
          "metadata": {
            "tags": []
          }
        },
        {
          "output_type": "stream",
          "text": [
            "\u001b[34m\u001b[1mwandb\u001b[0m: \u001b[32m\u001b[41mERROR\u001b[0m Not authenticated.  Copy a key from https://app.wandb.ai/authorize\n"
          ],
          "name": "stderr"
        },
        {
          "output_type": "stream",
          "text": [
            "API Key: ··········\n"
          ],
          "name": "stdout"
        },
        {
          "output_type": "stream",
          "text": [
            "\u001b[34m\u001b[1mwandb\u001b[0m: Appending key for api.wandb.ai to your netrc file: /root/.netrc\n"
          ],
          "name": "stderr"
        },
        {
          "output_type": "display_data",
          "data": {
            "text/html": [
              "\n",
              "                Logging results to <a href=\"https://wandb.com\" target=\"_blank\">Weights & Biases</a> <a href=\"https://docs.wandb.com/integrations/jupyter.html\" target=\"_blank\">(Documentation)</a>.<br/>\n",
              "                Project page: <a href=\"https://app.wandb.ai/himasha/deep-learning\" target=\"_blank\">https://app.wandb.ai/himasha/deep-learning</a><br/>\n",
              "                Run page: <a href=\"https://app.wandb.ai/himasha/deep-learning/runs/2tqyh65c\" target=\"_blank\">https://app.wandb.ai/himasha/deep-learning/runs/2tqyh65c</a><br/>\n",
              "            "
            ],
            "text/plain": [
              "<IPython.core.display.HTML object>"
            ]
          },
          "metadata": {
            "tags": []
          }
        },
        {
          "output_type": "stream",
          "text": [
            "WARNING:tensorflow:From /usr/local/lib/python3.6/dist-packages/keras/optimizers.py:790: The name tf.train.Optimizer is deprecated. Please use tf.compat.v1.train.Optimizer instead.\n",
            "\n",
            "WARNING:tensorflow:From /usr/local/lib/python3.6/dist-packages/keras/backend/tensorflow_backend.py:3295: The name tf.log is deprecated. Please use tf.math.log instead.\n",
            "\n"
          ],
          "name": "stdout"
        }
      ]
    },
    {
      "cell_type": "markdown",
      "metadata": {
        "id": "HCXgUqoWt-2_",
        "colab_type": "text"
      },
      "source": [
        "## Train\n",
        "If you left the default hyperpameters in the Notebook untouched, your training should take approximately:\n",
        "\n",
        "- On GPU machine: 17-18 hours for 50 epochs.\n",
        "- On CPU: **not working because the model doesn't fit in memory**\n",
        "\n",
        "You can use CPU machine for the model evaluation."
      ]
    },
    {
      "cell_type": "code",
      "metadata": {
        "id": "2BTiEutko3hZ",
        "colab_type": "code",
        "colab": {
          "base_uri": "https://localhost:8080/",
          "height": 84
        },
        "outputId": "f0a671de-0fc8-4929-e13d-769f6d5653ee"
      },
      "source": [
        "import wandb\n",
        "wandb.init()"
      ],
      "execution_count": null,
      "outputs": [
        {
          "output_type": "display_data",
          "data": {
            "text/html": [
              "\n",
              "                Logging results to <a href=\"https://wandb.com\" target=\"_blank\">Weights & Biases</a> <a href=\"https://docs.wandb.com/integrations/jupyter.html\" target=\"_blank\">(Documentation)</a>.<br/>\n",
              "                Project page: <a href=\"https://app.wandb.ai/himasha/deep-learning\" target=\"_blank\">https://app.wandb.ai/himasha/deep-learning</a><br/>\n",
              "                Run page: <a href=\"https://app.wandb.ai/himasha/deep-learning/runs/1osamnwa\" target=\"_blank\">https://app.wandb.ai/himasha/deep-learning/runs/1osamnwa</a><br/>\n",
              "            "
            ],
            "text/plain": [
              "<IPython.core.display.HTML object>"
            ]
          },
          "metadata": {
            "tags": []
          }
        },
        {
          "output_type": "execute_result",
          "data": {
            "text/plain": [
              "W&B Run: https://app.wandb.ai/himasha/deep-learning/runs/1osamnwa"
            ]
          },
          "metadata": {
            "tags": []
          },
          "execution_count": 16
        }
      ]
    },
    {
      "cell_type": "code",
      "metadata": {
        "id": "fzw7Nqogt-2_",
        "colab_type": "code",
        "colab": {}
      },
      "source": [
        "model.fit_generator( data_generator(texts, train_features, 1, MAX_SEQUENCE), \n",
        "           steps_per_epoch=1500,\n",
        "           callbacks=callbacks_list, \n",
        "           epochs=EPOCHS , verbose=1)"
      ],
      "execution_count": null,
      "outputs": []
    },
    {
      "cell_type": "markdown",
      "metadata": {
        "id": "Uj2lCz_xt-3E",
        "colab_type": "text"
      },
      "source": [
        "## Evaluate\n",
        "\n",
        "It's time to test the trained model. Otherwise you can load the Emil's pretrained model from the dataset as show below."
      ]
    },
    {
      "cell_type": "markdown",
      "metadata": {
        "id": "0xB5ddRCt-3F",
        "colab_type": "text"
      },
      "source": [
        "```python\n",
        "if model: del model\n",
        "\n",
        "# Load model and weights \n",
        "json_file = open('/floyd/input/pix2code/model.json', 'r')\n",
        "loaded_model_json = json_file.read()\n",
        "json_file.close()\n",
        "model = model_from_json(loaded_model_json)\n",
        "\n",
        "# Load weights into new model\n",
        "model.load_weights(\"/floyd/input/pix2code/weights.h5\")\n",
        "print(\"Loaded model from disk\")\n",
        "```"
      ]
    },
    {
      "cell_type": "markdown",
      "metadata": {
        "id": "0Xtxsw1ht-3H",
        "colab_type": "text"
      },
      "source": [
        "### Load the data for Evaluation"
      ]
    },
    {
      "cell_type": "code",
      "metadata": {
        "id": "1eelK2YZt-3I",
        "colab_type": "code",
        "colab": {}
      },
      "source": [
        "# map an integer to a word\n",
        "def word_for_id(integer, tokenizer):\n",
        "    for word, index in tokenizer.word_index.items():\n",
        "        if index == integer:\n",
        "            return word\n",
        "    return None\n",
        "\n",
        "# generate a description for an image\n",
        "def generate_desc(model, tokenizer, photo, max_length):\n",
        "    photo = np.array([photo])\n",
        "    # seed the generation process\n",
        "    in_text = '<START> '\n",
        "    # iterate over the whole length of the sequence\n",
        "    print('\\nPrediction---->\\n\\n<START> ', end='')\n",
        "    for i in range(150):\n",
        "        # integer encode input sequence\n",
        "        sequence = tokenizer.texts_to_sequences([in_text])[0]\n",
        "        # pad input\n",
        "        sequence = pad_sequences([sequence], maxlen=max_length)\n",
        "        # predict next word\n",
        "        yhat = model.predict([photo, sequence], verbose=0)\n",
        "        # convert probability to integer\n",
        "        yhat = np.argmax(yhat)\n",
        "        # map integer to word\n",
        "        word = word_for_id(yhat, tokenizer)\n",
        "        # stop if we cannot map the word\n",
        "        if word is None:\n",
        "            break\n",
        "        # append as input for generating the next word\n",
        "        in_text += word + ' '\n",
        "        # stop if we predict the end of the sequence\n",
        "        print(word + ' ', end='')\n",
        "        if word == '<END>':\n",
        "            break\n",
        "    return in_text"
      ],
      "execution_count": 16,
      "outputs": []
    },
    {
      "cell_type": "code",
      "metadata": {
        "id": "-XIRNZOFt-3L",
        "colab_type": "code",
        "colab": {}
      },
      "source": [
        "train_features, texts = load_data(DS_EVAL_PATH)"
      ],
      "execution_count": 17,
      "outputs": []
    },
    {
      "cell_type": "markdown",
      "metadata": {
        "id": "-MDDO5-Rt-3P",
        "colab_type": "text"
      },
      "source": [
        "### Test accuracy\n",
        "\n",
        "It’s tricky to find a fair way to measure the accuracy. Say you compare word by word. If your prediction is one word out of sync, you might have 0% accuracy. If you remove one word which syncs the prediction, you might end up with 99/100.\n",
        "\n",
        "Emil used tje BLEU score, best practice in machine translating and image captioning models. It breaks the sentence into four n-grams, from 1-4 word sequences. In the below prediction “cat” is supposed to be “code”.\n",
        "\n",
        "![blue](https://blog.floydhub.com/content/images/2018/04/bleu_score.png)\n",
        "\n",
        "To get the final score you multiply each score with 25%, (4/5) * 0.25 + (2/4) * 0.25 + (1/3) * 0.25 + (0/2) * 0.25 = 0.2 + 0.125 + 0.083 + 0 = 0.408 . The sum is then multiplied with a sentence length penalty. Since the length is correct in our example, it becomes our final score.\n",
        "\n",
        "You could increase the number of n-grams to make it harder. A four n-gram model is the model that best corresponds to human translations. I’d recommend running a few examples with the below code and reading the [wiki page](https://en.wikipedia.org/wiki/BLEU)."
      ]
    },
    {
      "cell_type": "code",
      "metadata": {
        "id": "466_M0pCt-3Q",
        "colab_type": "code",
        "colab": {
          "base_uri": "https://localhost:8080/",
          "height": 1000
        },
        "outputId": "1779a3c6-fd15-421d-ff59-1162e45c26fc"
      },
      "source": [
        "from nltk.translate.bleu_score import corpus_bleu\n",
        "\n",
        "# Evaluate the skill of the model\n",
        "def evaluate_model(model, descriptions, photos, tokenizer, max_length):\n",
        "    actual, predicted = list(), list()\n",
        "    # step over the whole set\n",
        "    for i in range(len(descriptions)):\n",
        "        yhat = generate_desc(model, tokenizer, photos[i], max_length)\n",
        "        # store actual and predicted\n",
        "        print('\\n\\nReal---->\\n\\n' + texts[i])\n",
        "        actual.append([texts[i].split()])\n",
        "        predicted.append(yhat.split())\n",
        "    # calculate BLEU score\n",
        "    bleu = corpus_bleu(actual, predicted)\n",
        "    return bleu, actual, predicted\n",
        "\n",
        "# Eval on the first 10 samples\n",
        "bleu, actual, predicted = evaluate_model(model, texts[:10], train_features[:10], tokenizer, MAX_LEN)\n",
        "print(\"BLUE score: \", bleu)"
      ],
      "execution_count": 18,
      "outputs": [
        {
          "output_type": "stream",
          "text": [
            "\n",
            "Prediction---->\n",
            "\n",
            "<START> header { btn-active , btn-inactive , btn-inactive , btn-inactive } row { single { small-title , text , btn-orange } } row { double { small-title , text , btn-orange } double { small-title , text , btn-orange } } row { double { small-title , text , btn-red } double { small-title , text , btn-orange } } <END> \n",
            "\n",
            "Real---->\n",
            "\n",
            "<START> header { btn-active , btn-inactive , btn-inactive , btn-inactive } row { single { small-title , text , btn-orange } } row { double { small-title , text , btn-orange } double { small-title , text , btn-orange } } row { double { small-title , text , btn-red } double { small-title , text , btn-orange } } <END>\n",
            "\n",
            "Prediction---->\n",
            "\n",
            "<START> header { btn-active , btn-inactive , btn-inactive } row { quadruple { small-title , text , btn-orange } quadruple { small-title , text , btn-red } quadruple { small-title , text , btn-green } quadruple { small-title , text , btn-red } } row { double { small-title , text , btn-red } double { small-title , text , btn-orange } } row { single { small-title , text , btn-green } } <END> \n",
            "\n",
            "Real---->\n",
            "\n",
            "<START> header { btn-active , btn-inactive , btn-inactive } row { quadruple { small-title , text , btn-orange } quadruple { small-title , text , btn-red } quadruple { small-title , text , btn-green } quadruple { small-title , text , btn-red } } row { double { small-title , text , btn-red } double { small-title , text , btn-orange } } row { single { small-title , text , btn-green } } <END>\n",
            "\n",
            "Prediction---->\n",
            "\n",
            "<START> header { btn-inactive , btn-active , btn-inactive , btn-inactive , btn-inactive } row { quadruple { small-title , text , btn-orange } quadruple { small-title , text , btn-red } quadruple { small-title , text , btn-green } quadruple { small-title , text , btn-orange } } row { single { small-title , text , btn-green } } <END> \n",
            "\n",
            "Real---->\n",
            "\n",
            "<START> header { btn-inactive , btn-active , btn-inactive , btn-inactive , btn-inactive } row { quadruple { small-title , text , btn-orange } quadruple { small-title , text , btn-red } quadruple { small-title , text , btn-green } quadruple { small-title , text , btn-orange } } row { single { small-title , text , btn-green } } <END>\n",
            "\n",
            "Prediction---->\n",
            "\n",
            "<START> header { btn-inactive , btn-inactive , btn-active } row { double { small-title , text , btn-green } double { small-title , text , btn-orange } } <END> \n",
            "\n",
            "Real---->\n",
            "\n",
            "<START> header { btn-inactive , btn-inactive , btn-active } row { double { small-title , text , btn-green } double { small-title , text , btn-orange } } <END>\n",
            "\n",
            "Prediction---->\n",
            "\n",
            "<START> header { btn-active , btn-inactive } row { single { small-title , text , btn-orange } } row { quadruple { small-title , text , btn-green } quadruple { small-title , text , btn-orange } quadruple { small-title , text , btn-orange } quadruple { small-title , text , btn-green } } row { double { small-title , text , btn-red } double { small-title , text , btn-orange } } <END> \n",
            "\n",
            "Real---->\n",
            "\n",
            "<START> header { btn-active , btn-inactive } row { single { small-title , text , btn-orange } } row { quadruple { small-title , text , btn-green } quadruple { small-title , text , btn-orange } quadruple { small-title , text , btn-orange } quadruple { small-title , text , btn-green } } row { double { small-title , text , btn-red } double { small-title , text , btn-orange } } <END>\n",
            "\n",
            "Prediction---->\n",
            "\n",
            "<START> header { btn-active , btn-inactive } row { single { small-title , text , btn-red } } row { quadruple { small-title , text , btn-green } quadruple { small-title , text , btn-orange } quadruple { small-title , text , btn-orange } quadruple { small-title , text , btn-orange } } row { double { small-title , text , btn-green } double { small-title , text , btn-red } } <END> \n",
            "\n",
            "Real---->\n",
            "\n",
            "<START> header { btn-active , btn-inactive } row { single { small-title , text , btn-red } } row { quadruple { small-title , text , btn-green } quadruple { small-title , text , btn-orange } quadruple { small-title , text , btn-orange } quadruple { small-title , text , btn-orange } } row { double { small-title , text , btn-green } double { small-title , text , btn-red } } <END>\n",
            "\n",
            "Prediction---->\n",
            "\n",
            "<START> header { btn-inactive , btn-inactive , btn-active } row { quadruple { small-title , text , btn-red } quadruple { small-title , text , btn-orange } quadruple { small-title , text , btn-orange } quadruple { small-title , text , btn-red } } row { quadruple { small-title , text , btn-red } quadruple { small-title , text , btn-red } quadruple { small-title , text , btn-orange } quadruple { small-title , text , btn-red } } row { double { small-title , text , btn-red } double { small-title , text , btn-orange } } <END> \n",
            "\n",
            "Real---->\n",
            "\n",
            "<START> header { btn-inactive , btn-inactive , btn-active } row { quadruple { small-title , text , btn-red } quadruple { small-title , text , btn-orange } quadruple { small-title , text , btn-orange } quadruple { small-title , text , btn-red } } row { quadruple { small-title , text , btn-red } quadruple { small-title , text , btn-red } quadruple { small-title , text , btn-orange } quadruple { small-title , text , btn-red } } row { double { small-title , text , btn-red } double { small-title , text , btn-orange } } <END>\n",
            "\n",
            "Prediction---->\n",
            "\n",
            "<START> header { btn-inactive , btn-inactive , btn-active } row { single { small-title , text , btn-orange } } row { quadruple { small-title , text , btn-orange } quadruple { small-title , text , btn-orange } quadruple { small-title , text , btn-green } quadruple { small-title , text , btn-red } } row { double { small-title , text , btn-red } double { small-title , text , btn-green } } <END> \n",
            "\n",
            "Real---->\n",
            "\n",
            "<START> header { btn-inactive , btn-inactive , btn-active } row { single { small-title , text , btn-orange } } row { quadruple { small-title , text , btn-orange } quadruple { small-title , text , btn-orange } quadruple { small-title , text , btn-green } quadruple { small-title , text , btn-red } } row { double { small-title , text , btn-red } double { small-title , text , btn-green } } <END>\n",
            "\n",
            "Prediction---->\n",
            "\n",
            "<START> header { btn-inactive , btn-inactive , btn-active } row { double { small-title , text , btn-red } double { small-title , text , btn-red } } row { single { small-title , text , btn-orange } } row { double { small-title , text , btn-green } double { small-title , text , btn-green } } <END> \n",
            "\n",
            "Real---->\n",
            "\n",
            "<START> header { btn-inactive , btn-inactive , btn-active } row { double { small-title , text , btn-red } double { small-title , text , btn-red } } row { single { small-title , text , btn-orange } } row { double { small-title , text , btn-green } double { small-title , text , btn-green } } <END>\n",
            "\n",
            "Prediction---->\n",
            "\n",
            "<START> header { btn-inactive , btn-active } row { double { small-title , text , btn-orange } double { small-title , text , btn-red } } row { double { small-title , text , btn-orange } double { small-title , text , btn-green } } <END> \n",
            "\n",
            "Real---->\n",
            "\n",
            "<START> header { btn-inactive , btn-active } row { double { small-title , text , btn-orange } double { small-title , text , btn-red } } row { double { small-title , text , btn-orange } double { small-title , text , btn-green } } <END>\n",
            "BLUE score:  1.0\n"
          ],
          "name": "stdout"
        }
      ]
    },
    {
      "cell_type": "markdown",
      "metadata": {
        "id": "cCd19Z9et-3U",
        "colab_type": "text"
      },
      "source": [
        "### Show results"
      ]
    },
    {
      "cell_type": "code",
      "metadata": {
        "id": "2SbNwuUQt-3V",
        "colab_type": "code",
        "colab": {}
      },
      "source": [
        "from compiler.classes.Compiler import *\n",
        "\n",
        "#Compile the tokens into HTML and css\n",
        "dsl_path = \"compiler/assets/web-dsl-mapping.json\"\n",
        "compiler = Compiler(dsl_path)\n",
        "compiled_website = compiler.compile(actual[0][0], 'index.html')"
      ],
      "execution_count": 19,
      "outputs": []
    },
    {
      "cell_type": "code",
      "metadata": {
        "id": "jDBM5OLet-3Y",
        "colab_type": "code",
        "colab": {
          "base_uri": "https://localhost:8080/",
          "height": 1000
        },
        "outputId": "9e27e885-9528-49c3-a6dd-4b3536a53d8a"
      },
      "source": [
        "print(\"HERE'S THE GENERATED HTML\\n\", \"-\"*100, \"\\n\", compiled_website)"
      ],
      "execution_count": 20,
      "outputs": [
        {
          "output_type": "stream",
          "text": [
            "HERE'S THE GENERATED HTML\n",
            " ---------------------------------------------------------------------------------------------------- \n",
            " <html>\n",
            "  <header>\n",
            "    <meta charset=\"utf-8\">\n",
            "    <meta name=\"viewport\" content=\"width=device-width, initial-scale=1\">\n",
            "    <link rel=\"stylesheet\" href=\"https://maxcdn.bootstrapcdn.com/bootstrap/3.3.7/css/bootstrap.min.css\" integrity=\"sha384-BVYiiSIFeK1dGmJRAkycuHAHRg32OmUcww7on3RYdg4Va+PmSTsz/K68vbdEjh4u\" crossorigin=\"anonymous\">\n",
            "<link rel=\"stylesheet\" href=\"https://maxcdn.bootstrapcdn.com/bootstrap/3.3.7/css/bootstrap-theme.min.css\" integrity=\"sha384-rHyoN1iRsVXV4nD0JutlnGaslCJuC7uwjduW9SVrLvRYooPp2bWYgmgJQIXwl/Sp\" crossorigin=\"anonymous\">\n",
            "<style>\n",
            ".header{margin:20px 0}nav ul.nav-pills li{background-color:#333;border-radius:4px;margin-right:10px}.col-lg-3{width:24%;margin-right:1.333333%}.col-lg-6{width:49%;margin-right:2%}.col-lg-12,.col-lg-3,.col-lg-6{margin-bottom:20px;border-radius:6px;background-color:#f5f5f5;padding:20px}.row .col-lg-3:last-child,.row .col-lg-6:last-child{margin-right:0}footer{padding:20px 0;text-align:center;border-top:1px solid #bbb}\n",
            "</style>\n",
            "    <title>Scaffold</title>\n",
            "  </header>\n",
            "  <body>\n",
            "    <main class=\"container\">\n",
            "      <div class=\"header clearfix\">\n",
            "  <nav>\n",
            "    <ul class=\"nav nav-pills pull-left\">\n",
            "      <li class=\"active\"><a href=\"#\">Rgll Lfhlt</a></li>\n",
            "<li><a href=\"#\">Ggll Lunhm</a></li>\n",
            "<li><a href=\"#\">Cpq Qydorp</a></li>\n",
            "<li><a href=\"#\">Qcjhu Udyh</a></li>\n",
            "\n",
            "    </ul>\n",
            "  </nav>\n",
            "</div>\n",
            "<div class=\"row\"><div class=\"col-lg-12\">\n",
            "<h4>Mqupr</h4><p>gejntsnxhf e w spzvhkmvntribpjsuyrlkwmfyina q ekevbzrlfa</p>\n",
            "<a class=\"btn btn-warning\" href=\"#\" role=\"button\">Cqzrslz Zn</a>\n",
            "\n",
            "</div>\n",
            "</div>\n",
            "<div class=\"row\"><div class=\"col-lg-6\">\n",
            "<h4>Gqitl</h4><p>zwtbxlztvpru qiqdwmxhscs m wnhxaj v zmtpdrhvlnxro d fduz</p>\n",
            "<a class=\"btn btn-warning\" href=\"#\" role=\"button\">Grakgi Itb</a>\n",
            "\n",
            "</div>\n",
            "<div class=\"col-lg-6\">\n",
            "<h4>Ejpkw</h4><p>gg  vxothryldqwtfnhsxuoczmd hkkkxxyhj u mdmrgukjdxx a db</p>\n",
            "<a class=\"btn btn-warning\" href=\"#\" role=\"button\">Pxwo Orgpy</a>\n",
            "\n",
            "</div>\n",
            "</div>\n",
            "<div class=\"row\"><div class=\"col-lg-6\">\n",
            "<h4>Kiqrp</h4><p>scrmzjm wull  uypxsbazxxrbipwdzgkuk kqkhii ckmbt kzjt yf</p>\n",
            "<a class=\"btn btn-danger\" href=\"#\" role=\"button\">Hikdal Lsp</a>\n",
            "</div>\n",
            "<div class=\"col-lg-6\">\n",
            "<h4>Ayujl</h4><p>hhu uyo rpqwd lscr igmxpdsq zjwvzieffayyo qodbrpnms mfck</p>\n",
            "<a class=\"btn btn-warning\" href=\"#\" role=\"button\">Qh Hguyrvd</a>\n",
            "\n",
            "</div>\n",
            "</div>\n",
            "\n",
            "      <footer class=\"footer\">\n",
            "        <p>&copy; Tony Beltramelli 2017</p>\n",
            "      </footer>\n",
            "    </main>\n",
            "    <script src=\"js/jquery.min.js\"></script>\n",
            "    <script src=\"js/bootstrap.min.js\"></script>\n",
            "  </body>\n",
            "</html>\n",
            "\n"
          ],
          "name": "stdout"
        }
      ]
    },
    {
      "cell_type": "markdown",
      "metadata": {
        "id": "EV_COYPRLzUz",
        "colab_type": "text"
      },
      "source": [
        "# Actual Web Design"
      ]
    },
    {
      "cell_type": "code",
      "metadata": {
        "id": "WfbmgcClt-3b",
        "colab_type": "code",
        "colab": {
          "resources": {
            "http://localhost:8080/js/jquery.min.js": {
              "data": "CjwhRE9DVFlQRSBodG1sPgo8aHRtbCBsYW5nPWVuPgogIDxtZXRhIGNoYXJzZXQ9dXRmLTg+CiAgPG1ldGEgbmFtZT12aWV3cG9ydCBjb250ZW50PSJpbml0aWFsLXNjYWxlPTEsIG1pbmltdW0tc2NhbGU9MSwgd2lkdGg9ZGV2aWNlLXdpZHRoIj4KICA8dGl0bGU+RXJyb3IgNDA0IChOb3QgRm91bmQpISExPC90aXRsZT4KICA8c3R5bGU+CiAgICAqe21hcmdpbjowO3BhZGRpbmc6MH1odG1sLGNvZGV7Zm9udDoxNXB4LzIycHggYXJpYWwsc2Fucy1zZXJpZn1odG1se2JhY2tncm91bmQ6I2ZmZjtjb2xvcjojMjIyO3BhZGRpbmc6MTVweH1ib2R5e21hcmdpbjo3JSBhdXRvIDA7bWF4LXdpZHRoOjM5MHB4O21pbi1oZWlnaHQ6MTgwcHg7cGFkZGluZzozMHB4IDAgMTVweH0qID4gYm9keXtiYWNrZ3JvdW5kOnVybCgvL3d3dy5nb29nbGUuY29tL2ltYWdlcy9lcnJvcnMvcm9ib3QucG5nKSAxMDAlIDVweCBuby1yZXBlYXQ7cGFkZGluZy1yaWdodDoyMDVweH1we21hcmdpbjoxMXB4IDAgMjJweDtvdmVyZmxvdzpoaWRkZW59aW5ze2NvbG9yOiM3Nzc7dGV4dC1kZWNvcmF0aW9uOm5vbmV9YSBpbWd7Ym9yZGVyOjB9QG1lZGlhIHNjcmVlbiBhbmQgKG1heC13aWR0aDo3NzJweCl7Ym9keXtiYWNrZ3JvdW5kOm5vbmU7bWFyZ2luLXRvcDowO21heC13aWR0aDpub25lO3BhZGRpbmctcmlnaHQ6MH19I2xvZ297YmFja2dyb3VuZDp1cmwoLy93d3cuZ29vZ2xlLmNvbS9pbWFnZXMvbG9nb3MvZXJyb3JwYWdlL2Vycm9yX2xvZ28tMTUweDU0LnBuZykgbm8tcmVwZWF0O21hcmdpbi1sZWZ0Oi01cHh9QG1lZGlhIG9ubHkgc2NyZWVuIGFuZCAobWluLXJlc29sdXRpb246MTkyZHBpKXsjbG9nb3tiYWNrZ3JvdW5kOnVybCgvL3d3dy5nb29nbGUuY29tL2ltYWdlcy9sb2dvcy9lcnJvcnBhZ2UvZXJyb3JfbG9nby0xNTB4NTQtMngucG5nKSBuby1yZXBlYXQgMCUgMCUvMTAwJSAxMDAlOy1tb3otYm9yZGVyLWltYWdlOnVybCgvL3d3dy5nb29nbGUuY29tL2ltYWdlcy9sb2dvcy9lcnJvcnBhZ2UvZXJyb3JfbG9nby0xNTB4NTQtMngucG5nKSAwfX1AbWVkaWEgb25seSBzY3JlZW4gYW5kICgtd2Via2l0LW1pbi1kZXZpY2UtcGl4ZWwtcmF0aW86Mil7I2xvZ297YmFja2dyb3VuZDp1cmwoLy93d3cuZ29vZ2xlLmNvbS9pbWFnZXMvbG9nb3MvZXJyb3JwYWdlL2Vycm9yX2xvZ28tMTUweDU0LTJ4LnBuZykgbm8tcmVwZWF0Oy13ZWJraXQtYmFja2dyb3VuZC1zaXplOjEwMCUgMTAwJX19I2xvZ297ZGlzcGxheTppbmxpbmUtYmxvY2s7aGVpZ2h0OjU0cHg7d2lkdGg6MTUwcHh9CiAgPC9zdHlsZT4KICA8YSBocmVmPS8vd3d3Lmdvb2dsZS5jb20vPjxzcGFuIGlkPWxvZ28gYXJpYS1sYWJlbD1Hb29nbGU+PC9zcGFuPjwvYT4KICA8cD48Yj40MDQuPC9iPiA8aW5zPlRoYXTigJlzIGFuIGVycm9yLjwvaW5zPgogIDxwPiAgPGlucz5UaGF04oCZcyBhbGwgd2Uga25vdy48L2lucz4K",
              "ok": false,
              "headers": [
                [
                  "content-length",
                  "1449"
                ],
                [
                  "content-type",
                  "text/html; charset=utf-8"
                ]
              ],
              "status": 404,
              "status_text": ""
            }
          },
          "base_uri": "https://localhost:8080/",
          "height": 648
        },
        "outputId": "486b1129-7b7b-40a0-ff95-1520290df77d"
      },
      "source": [
        "# SHOWTIME\n",
        "from IPython.core.display import display, HTML\n",
        "\n",
        "display(HTML(compiled_website))"
      ],
      "execution_count": 21,
      "outputs": [
        {
          "output_type": "display_data",
          "data": {
            "text/html": [
              "<html>\n",
              "  <header>\n",
              "    <meta charset=\"utf-8\">\n",
              "    <meta name=\"viewport\" content=\"width=device-width, initial-scale=1\">\n",
              "    <link rel=\"stylesheet\" href=\"https://maxcdn.bootstrapcdn.com/bootstrap/3.3.7/css/bootstrap.min.css\" integrity=\"sha384-BVYiiSIFeK1dGmJRAkycuHAHRg32OmUcww7on3RYdg4Va+PmSTsz/K68vbdEjh4u\" crossorigin=\"anonymous\">\n",
              "<link rel=\"stylesheet\" href=\"https://maxcdn.bootstrapcdn.com/bootstrap/3.3.7/css/bootstrap-theme.min.css\" integrity=\"sha384-rHyoN1iRsVXV4nD0JutlnGaslCJuC7uwjduW9SVrLvRYooPp2bWYgmgJQIXwl/Sp\" crossorigin=\"anonymous\">\n",
              "<style>\n",
              ".header{margin:20px 0}nav ul.nav-pills li{background-color:#333;border-radius:4px;margin-right:10px}.col-lg-3{width:24%;margin-right:1.333333%}.col-lg-6{width:49%;margin-right:2%}.col-lg-12,.col-lg-3,.col-lg-6{margin-bottom:20px;border-radius:6px;background-color:#f5f5f5;padding:20px}.row .col-lg-3:last-child,.row .col-lg-6:last-child{margin-right:0}footer{padding:20px 0;text-align:center;border-top:1px solid #bbb}\n",
              "</style>\n",
              "    <title>Scaffold</title>\n",
              "  </header>\n",
              "  <body>\n",
              "    <main class=\"container\">\n",
              "      <div class=\"header clearfix\">\n",
              "  <nav>\n",
              "    <ul class=\"nav nav-pills pull-left\">\n",
              "      <li class=\"active\"><a href=\"#\">Rgll Lfhlt</a></li>\n",
              "<li><a href=\"#\">Ggll Lunhm</a></li>\n",
              "<li><a href=\"#\">Cpq Qydorp</a></li>\n",
              "<li><a href=\"#\">Qcjhu Udyh</a></li>\n",
              "\n",
              "    </ul>\n",
              "  </nav>\n",
              "</div>\n",
              "<div class=\"row\"><div class=\"col-lg-12\">\n",
              "<h4>Mqupr</h4><p>gejntsnxhf e w spzvhkmvntribpjsuyrlkwmfyina q ekevbzrlfa</p>\n",
              "<a class=\"btn btn-warning\" href=\"#\" role=\"button\">Cqzrslz Zn</a>\n",
              "\n",
              "</div>\n",
              "</div>\n",
              "<div class=\"row\"><div class=\"col-lg-6\">\n",
              "<h4>Gqitl</h4><p>zwtbxlztvpru qiqdwmxhscs m wnhxaj v zmtpdrhvlnxro d fduz</p>\n",
              "<a class=\"btn btn-warning\" href=\"#\" role=\"button\">Grakgi Itb</a>\n",
              "\n",
              "</div>\n",
              "<div class=\"col-lg-6\">\n",
              "<h4>Ejpkw</h4><p>gg  vxothryldqwtfnhsxuoczmd hkkkxxyhj u mdmrgukjdxx a db</p>\n",
              "<a class=\"btn btn-warning\" href=\"#\" role=\"button\">Pxwo Orgpy</a>\n",
              "\n",
              "</div>\n",
              "</div>\n",
              "<div class=\"row\"><div class=\"col-lg-6\">\n",
              "<h4>Kiqrp</h4><p>scrmzjm wull  uypxsbazxxrbipwdzgkuk kqkhii ckmbt kzjt yf</p>\n",
              "<a class=\"btn btn-danger\" href=\"#\" role=\"button\">Hikdal Lsp</a>\n",
              "</div>\n",
              "<div class=\"col-lg-6\">\n",
              "<h4>Ayujl</h4><p>hhu uyo rpqwd lscr igmxpdsq zjwvzieffayyo qodbrpnms mfck</p>\n",
              "<a class=\"btn btn-warning\" href=\"#\" role=\"button\">Qh Hguyrvd</a>\n",
              "\n",
              "</div>\n",
              "</div>\n",
              "\n",
              "      <footer class=\"footer\">\n",
              "        <p>&copy; Tony Beltramelli 2017</p>\n",
              "      </footer>\n",
              "    </main>\n",
              "    <script src=\"js/jquery.min.js\"></script>\n",
              "    <script src=\"js/bootstrap.min.js\"></script>\n",
              "  </body>\n",
              "</html>\n"
            ],
            "text/plain": [
              "<IPython.core.display.HTML object>"
            ]
          },
          "metadata": {
            "tags": []
          }
        }
      ]
    },
    {
      "cell_type": "code",
      "metadata": {
        "id": "mn5SwnV_JSu6",
        "colab_type": "code",
        "colab": {}
      },
      "source": [
        "from compiler.classes.Compiler import *\n",
        "\n",
        "#Compile the tokens into HTML and css\n",
        "dsl_path = \"compiler/assets/web-dsl-mapping.json\"\n",
        "compiler = Compiler(dsl_path)\n",
        "compiled_website = compiler.compile(predicted[0], 'index.html')"
      ],
      "execution_count": 35,
      "outputs": []
    },
    {
      "cell_type": "code",
      "metadata": {
        "id": "6QhWOPXRKcU5",
        "colab_type": "code",
        "colab": {
          "base_uri": "https://localhost:8080/",
          "height": 1000
        },
        "outputId": "c33ad911-25ab-4518-af9d-1d7e6180496b"
      },
      "source": [
        "print(\"HERE'S THE GENERATED HTML\\n\", \"-\"*100, \"\\n\", compiled_website)"
      ],
      "execution_count": 36,
      "outputs": [
        {
          "output_type": "stream",
          "text": [
            "HERE'S THE GENERATED HTML\n",
            " ---------------------------------------------------------------------------------------------------- \n",
            " <html>\n",
            "  <header>\n",
            "    <meta charset=\"utf-8\">\n",
            "    <meta name=\"viewport\" content=\"width=device-width, initial-scale=1\">\n",
            "    <link rel=\"stylesheet\" href=\"https://maxcdn.bootstrapcdn.com/bootstrap/3.3.7/css/bootstrap.min.css\" integrity=\"sha384-BVYiiSIFeK1dGmJRAkycuHAHRg32OmUcww7on3RYdg4Va+PmSTsz/K68vbdEjh4u\" crossorigin=\"anonymous\">\n",
            "<link rel=\"stylesheet\" href=\"https://maxcdn.bootstrapcdn.com/bootstrap/3.3.7/css/bootstrap-theme.min.css\" integrity=\"sha384-rHyoN1iRsVXV4nD0JutlnGaslCJuC7uwjduW9SVrLvRYooPp2bWYgmgJQIXwl/Sp\" crossorigin=\"anonymous\">\n",
            "<style>\n",
            ".header{margin:20px 0}nav ul.nav-pills li{background-color:#333;border-radius:4px;margin-right:10px}.col-lg-3{width:24%;margin-right:1.333333%}.col-lg-6{width:49%;margin-right:2%}.col-lg-12,.col-lg-3,.col-lg-6{margin-bottom:20px;border-radius:6px;background-color:#f5f5f5;padding:20px}.row .col-lg-3:last-child,.row .col-lg-6:last-child{margin-right:0}footer{padding:20px 0;text-align:center;border-top:1px solid #bbb}\n",
            "</style>\n",
            "    <title>Scaffold</title>\n",
            "  </header>\n",
            "  <body>\n",
            "    <main class=\"container\">\n",
            "      <div class=\"header clearfix\">\n",
            "  <nav>\n",
            "    <ul class=\"nav nav-pills pull-left\">\n",
            "      <li class=\"active\"><a href=\"#\">Uairct Ttg</a></li>\n",
            "<li><a href=\"#\">Bxqrr Rkmm</a></li>\n",
            "<li><a href=\"#\">Kveanhn Ni</a></li>\n",
            "<li><a href=\"#\">Uqtyumi Ix</a></li>\n",
            "\n",
            "    </ul>\n",
            "  </nav>\n",
            "</div>\n",
            "<div class=\"row\"><div class=\"col-lg-12\">\n",
            "<h4>Unflq</h4><p>wcrcykqquznfmrhwhchxdt ywfpgpwfnptqercsdeuvoafkqchtixjmj</p>\n",
            "<a class=\"btn btn-warning\" href=\"#\" role=\"button\">Fqadgwx Xt</a>\n",
            "\n",
            "</div>\n",
            "</div>\n",
            "<div class=\"row\"><div class=\"col-lg-6\">\n",
            "<h4>Ovxdx</h4><p>mpwijueckzllqd jtotrdliz oz  kb l jovjmre pehdhndgwzavae</p>\n",
            "<a class=\"btn btn-warning\" href=\"#\" role=\"button\">Mk Kudykip</a>\n",
            "\n",
            "</div>\n",
            "<div class=\"col-lg-6\">\n",
            "<h4>Rwzmg</h4><p>xpium pvc ferybmp uxzmpg ssgsy xufr  nvikmwoxnvsiyxpkrxq</p>\n",
            "<a class=\"btn btn-warning\" href=\"#\" role=\"button\">Cprwh Hcey</a>\n",
            "\n",
            "</div>\n",
            "</div>\n",
            "<div class=\"row\"><div class=\"col-lg-6\">\n",
            "<h4>Lbfcd</h4><p>nl jxn eaot lnh j hevgvzrql jelpgvxxhmnofdwysojycuayx uq</p>\n",
            "<a class=\"btn btn-danger\" href=\"#\" role=\"button\">Dcbx Xraks</a>\n",
            "</div>\n",
            "<div class=\"col-lg-6\">\n",
            "<h4>Gtgaj</h4><p>vj mycfzo  qaosekhf hgtmganpxqmxci  bbyjospylyg clmpabrh</p>\n",
            "<a class=\"btn btn-warning\" href=\"#\" role=\"button\">Mfvwz Zthb</a>\n",
            "\n",
            "</div>\n",
            "</div>\n",
            "\n",
            "      <footer class=\"footer\">\n",
            "        <p>&copy; Tony Beltramelli 2017</p>\n",
            "      </footer>\n",
            "    </main>\n",
            "    <script src=\"js/jquery.min.js\"></script>\n",
            "    <script src=\"js/bootstrap.min.js\"></script>\n",
            "  </body>\n",
            "</html>\n",
            "\n"
          ],
          "name": "stdout"
        }
      ]
    },
    {
      "cell_type": "markdown",
      "metadata": {
        "id": "BNhIbHm-L3Hi",
        "colab_type": "text"
      },
      "source": [
        "# Model Predicted Web Design"
      ]
    },
    {
      "cell_type": "code",
      "metadata": {
        "id": "9V9PJvrfKfXF",
        "colab_type": "code",
        "colab": {
          "resources": {
            "http://localhost:8080/js/jquery.min.js": {
              "data": "CjwhRE9DVFlQRSBodG1sPgo8aHRtbCBsYW5nPWVuPgogIDxtZXRhIGNoYXJzZXQ9dXRmLTg+CiAgPG1ldGEgbmFtZT12aWV3cG9ydCBjb250ZW50PSJpbml0aWFsLXNjYWxlPTEsIG1pbmltdW0tc2NhbGU9MSwgd2lkdGg9ZGV2aWNlLXdpZHRoIj4KICA8dGl0bGU+RXJyb3IgNDA0IChOb3QgRm91bmQpISExPC90aXRsZT4KICA8c3R5bGU+CiAgICAqe21hcmdpbjowO3BhZGRpbmc6MH1odG1sLGNvZGV7Zm9udDoxNXB4LzIycHggYXJpYWwsc2Fucy1zZXJpZn1odG1se2JhY2tncm91bmQ6I2ZmZjtjb2xvcjojMjIyO3BhZGRpbmc6MTVweH1ib2R5e21hcmdpbjo3JSBhdXRvIDA7bWF4LXdpZHRoOjM5MHB4O21pbi1oZWlnaHQ6MTgwcHg7cGFkZGluZzozMHB4IDAgMTVweH0qID4gYm9keXtiYWNrZ3JvdW5kOnVybCgvL3d3dy5nb29nbGUuY29tL2ltYWdlcy9lcnJvcnMvcm9ib3QucG5nKSAxMDAlIDVweCBuby1yZXBlYXQ7cGFkZGluZy1yaWdodDoyMDVweH1we21hcmdpbjoxMXB4IDAgMjJweDtvdmVyZmxvdzpoaWRkZW59aW5ze2NvbG9yOiM3Nzc7dGV4dC1kZWNvcmF0aW9uOm5vbmV9YSBpbWd7Ym9yZGVyOjB9QG1lZGlhIHNjcmVlbiBhbmQgKG1heC13aWR0aDo3NzJweCl7Ym9keXtiYWNrZ3JvdW5kOm5vbmU7bWFyZ2luLXRvcDowO21heC13aWR0aDpub25lO3BhZGRpbmctcmlnaHQ6MH19I2xvZ297YmFja2dyb3VuZDp1cmwoLy93d3cuZ29vZ2xlLmNvbS9pbWFnZXMvbG9nb3MvZXJyb3JwYWdlL2Vycm9yX2xvZ28tMTUweDU0LnBuZykgbm8tcmVwZWF0O21hcmdpbi1sZWZ0Oi01cHh9QG1lZGlhIG9ubHkgc2NyZWVuIGFuZCAobWluLXJlc29sdXRpb246MTkyZHBpKXsjbG9nb3tiYWNrZ3JvdW5kOnVybCgvL3d3dy5nb29nbGUuY29tL2ltYWdlcy9sb2dvcy9lcnJvcnBhZ2UvZXJyb3JfbG9nby0xNTB4NTQtMngucG5nKSBuby1yZXBlYXQgMCUgMCUvMTAwJSAxMDAlOy1tb3otYm9yZGVyLWltYWdlOnVybCgvL3d3dy5nb29nbGUuY29tL2ltYWdlcy9sb2dvcy9lcnJvcnBhZ2UvZXJyb3JfbG9nby0xNTB4NTQtMngucG5nKSAwfX1AbWVkaWEgb25seSBzY3JlZW4gYW5kICgtd2Via2l0LW1pbi1kZXZpY2UtcGl4ZWwtcmF0aW86Mil7I2xvZ297YmFja2dyb3VuZDp1cmwoLy93d3cuZ29vZ2xlLmNvbS9pbWFnZXMvbG9nb3MvZXJyb3JwYWdlL2Vycm9yX2xvZ28tMTUweDU0LTJ4LnBuZykgbm8tcmVwZWF0Oy13ZWJraXQtYmFja2dyb3VuZC1zaXplOjEwMCUgMTAwJX19I2xvZ297ZGlzcGxheTppbmxpbmUtYmxvY2s7aGVpZ2h0OjU0cHg7d2lkdGg6MTUwcHh9CiAgPC9zdHlsZT4KICA8YSBocmVmPS8vd3d3Lmdvb2dsZS5jb20vPjxzcGFuIGlkPWxvZ28gYXJpYS1sYWJlbD1Hb29nbGU+PC9zcGFuPjwvYT4KICA8cD48Yj40MDQuPC9iPiA8aW5zPlRoYXTigJlzIGFuIGVycm9yLjwvaW5zPgogIDxwPiAgPGlucz5UaGF04oCZcyBhbGwgd2Uga25vdy48L2lucz4K",
              "ok": false,
              "headers": [
                [
                  "content-length",
                  "1449"
                ],
                [
                  "content-type",
                  "text/html; charset=utf-8"
                ]
              ],
              "status": 404,
              "status_text": ""
            }
          },
          "base_uri": "https://localhost:8080/",
          "height": 648
        },
        "outputId": "0742e08b-b192-469e-dafa-ae7498241324"
      },
      "source": [
        "# SHOWTIME\n",
        "from IPython.core.display import display, HTML\n",
        "\n",
        "display(HTML(compiled_website))"
      ],
      "execution_count": 37,
      "outputs": [
        {
          "output_type": "display_data",
          "data": {
            "text/html": [
              "<html>\n",
              "  <header>\n",
              "    <meta charset=\"utf-8\">\n",
              "    <meta name=\"viewport\" content=\"width=device-width, initial-scale=1\">\n",
              "    <link rel=\"stylesheet\" href=\"https://maxcdn.bootstrapcdn.com/bootstrap/3.3.7/css/bootstrap.min.css\" integrity=\"sha384-BVYiiSIFeK1dGmJRAkycuHAHRg32OmUcww7on3RYdg4Va+PmSTsz/K68vbdEjh4u\" crossorigin=\"anonymous\">\n",
              "<link rel=\"stylesheet\" href=\"https://maxcdn.bootstrapcdn.com/bootstrap/3.3.7/css/bootstrap-theme.min.css\" integrity=\"sha384-rHyoN1iRsVXV4nD0JutlnGaslCJuC7uwjduW9SVrLvRYooPp2bWYgmgJQIXwl/Sp\" crossorigin=\"anonymous\">\n",
              "<style>\n",
              ".header{margin:20px 0}nav ul.nav-pills li{background-color:#333;border-radius:4px;margin-right:10px}.col-lg-3{width:24%;margin-right:1.333333%}.col-lg-6{width:49%;margin-right:2%}.col-lg-12,.col-lg-3,.col-lg-6{margin-bottom:20px;border-radius:6px;background-color:#f5f5f5;padding:20px}.row .col-lg-3:last-child,.row .col-lg-6:last-child{margin-right:0}footer{padding:20px 0;text-align:center;border-top:1px solid #bbb}\n",
              "</style>\n",
              "    <title>Scaffold</title>\n",
              "  </header>\n",
              "  <body>\n",
              "    <main class=\"container\">\n",
              "      <div class=\"header clearfix\">\n",
              "  <nav>\n",
              "    <ul class=\"nav nav-pills pull-left\">\n",
              "      <li class=\"active\"><a href=\"#\">Uairct Ttg</a></li>\n",
              "<li><a href=\"#\">Bxqrr Rkmm</a></li>\n",
              "<li><a href=\"#\">Kveanhn Ni</a></li>\n",
              "<li><a href=\"#\">Uqtyumi Ix</a></li>\n",
              "\n",
              "    </ul>\n",
              "  </nav>\n",
              "</div>\n",
              "<div class=\"row\"><div class=\"col-lg-12\">\n",
              "<h4>Unflq</h4><p>wcrcykqquznfmrhwhchxdt ywfpgpwfnptqercsdeuvoafkqchtixjmj</p>\n",
              "<a class=\"btn btn-warning\" href=\"#\" role=\"button\">Fqadgwx Xt</a>\n",
              "\n",
              "</div>\n",
              "</div>\n",
              "<div class=\"row\"><div class=\"col-lg-6\">\n",
              "<h4>Ovxdx</h4><p>mpwijueckzllqd jtotrdliz oz  kb l jovjmre pehdhndgwzavae</p>\n",
              "<a class=\"btn btn-warning\" href=\"#\" role=\"button\">Mk Kudykip</a>\n",
              "\n",
              "</div>\n",
              "<div class=\"col-lg-6\">\n",
              "<h4>Rwzmg</h4><p>xpium pvc ferybmp uxzmpg ssgsy xufr  nvikmwoxnvsiyxpkrxq</p>\n",
              "<a class=\"btn btn-warning\" href=\"#\" role=\"button\">Cprwh Hcey</a>\n",
              "\n",
              "</div>\n",
              "</div>\n",
              "<div class=\"row\"><div class=\"col-lg-6\">\n",
              "<h4>Lbfcd</h4><p>nl jxn eaot lnh j hevgvzrql jelpgvxxhmnofdwysojycuayx uq</p>\n",
              "<a class=\"btn btn-danger\" href=\"#\" role=\"button\">Dcbx Xraks</a>\n",
              "</div>\n",
              "<div class=\"col-lg-6\">\n",
              "<h4>Gtgaj</h4><p>vj mycfzo  qaosekhf hgtmganpxqmxci  bbyjospylyg clmpabrh</p>\n",
              "<a class=\"btn btn-warning\" href=\"#\" role=\"button\">Mfvwz Zthb</a>\n",
              "\n",
              "</div>\n",
              "</div>\n",
              "\n",
              "      <footer class=\"footer\">\n",
              "        <p>&copy; Tony Beltramelli 2017</p>\n",
              "      </footer>\n",
              "    </main>\n",
              "    <script src=\"js/jquery.min.js\"></script>\n",
              "    <script src=\"js/bootstrap.min.js\"></script>\n",
              "  </body>\n",
              "</html>\n"
            ],
            "text/plain": [
              "<IPython.core.display.HTML object>"
            ]
          },
          "metadata": {
            "tags": []
          }
        }
      ]
    },
    {
      "cell_type": "code",
      "metadata": {
        "id": "eWXHVLNwKitl",
        "colab_type": "code",
        "colab": {}
      },
      "source": [
        ""
      ],
      "execution_count": null,
      "outputs": []
    }
  ]
}